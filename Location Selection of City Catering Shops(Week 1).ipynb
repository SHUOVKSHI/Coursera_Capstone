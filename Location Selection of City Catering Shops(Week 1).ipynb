{
    "nbformat_minor": 1, 
    "cells": [
        {
            "source": "<h1 align=center><font size = 5>Location Selection of City Catering Shops(Week 1/2)</font></h1>", 
            "cell_type": "markdown", 
            "metadata": {
                "collapsed": true
            }
        }, 
        {
            "source": "<h1 align=left><font size = 4>Introduction/Business Problem </font></h1>", 
            "cell_type": "markdown", 
            "metadata": {}
        }, 
        {
            "source": "The restorant category and its location is very important to operate restaurant. So this project will recommend the restorant category and its location selection.", 
            "cell_type": "markdown", 
            "metadata": {}
        }, 
        {
            "source": "<h1 align=left><font size = 4>Data Anynasis/Solution section </font></h1>", 
            "cell_type": "markdown", 
            "metadata": {}
        }, 
        {
            "source": "1. Through three dimensions: \"Price Tier\", \"Rating\" and \"Cost Performance\",  compares different category and screens out the catering types that can open restorant.\n\n   According to Shanghai catering data obtained via Foursquare API , include three fields: \"Price Tier\", \"Rating\" and \"Rating Signals\". Therefore, we can calculate the \"Cost Performance\" by indicators: \"Price Tier\", \"Rating\". On this basis, we can choose catering types. \n\n\n2. Based on step 1 anynasis, choose a restorant catering type. Divide Shanghai into grid space, and evaluate the spatial index with Python to get the location of catering location.The following four indicators can be used:\n      \n      \n      Population density index\n      \n      Road density index\n      \n      Restorants nunber index\n      \n      These indicators is obtained by using QGIS for geospatial analysis.\n      \n      Evaluation methods:\n      \n      Population Density Index The Higher the Score, the Better\n      \n      Road Density Index The Higher the Score, the Better\n      \n      Restorants Index The Higher the Score, the Better\n      \n      Comprehensive Index = Population Density Index * 0.4 + Catering Heat Index * 0.3 + Road Density Index * 0.2\n   \n   The population density and road density are calculated by using the population grid map of Shanghai as the basic data. The Restorants density are calculated by combining the longitude and latitude of catering shops with the catering data of Shanghai. After labeling the four indicators, the weighted average is used to get the comprehensive indicators, and the top10 area is selected as the candidate area by comprehensive ranking. Bokeh can be used to draw a square map of Shanghai according to longitude and latitude, and the alternative areas can be marked by color and size.\n", 
            "cell_type": "markdown", 
            "metadata": {}
        }, 
        {
            "execution_count": null, 
            "cell_type": "code", 
            "metadata": {}, 
            "outputs": [], 
            "source": ""
        }
    ], 
    "metadata": {
        "kernelspec": {
            "display_name": "Python 3.5", 
            "name": "python3", 
            "language": "python"
        }, 
        "language_info": {
            "mimetype": "text/x-python", 
            "nbconvert_exporter": "python", 
            "version": "3.5.5", 
            "name": "python", 
            "file_extension": ".py", 
            "pygments_lexer": "ipython3", 
            "codemirror_mode": {
                "version": 3, 
                "name": "ipython"
            }
        }
    }, 
    "nbformat": 4
}